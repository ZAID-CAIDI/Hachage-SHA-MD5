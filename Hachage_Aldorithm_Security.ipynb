{
 "cells": [
  {
   "cell_type": "markdown",
   "id": "9f65633a",
   "metadata": {},
   "source": [
    "# Hashing SHA"
   ]
  },
  {
   "cell_type": "code",
   "execution_count": 1,
   "id": "ea2780ce",
   "metadata": {},
   "outputs": [],
   "source": [
    "import hashlib"
   ]
  },
  {
   "cell_type": "code",
   "execution_count": 2,
   "id": "001ca7fb",
   "metadata": {},
   "outputs": [],
   "source": [
    "# Initialiser le String\n",
    "str = 'MasterDS&BD'"
   ]
  },
  {
   "cell_type": "code",
   "execution_count": 3,
   "id": "c1f60614",
   "metadata": {},
   "outputs": [],
   "source": [
    "# Encoder notre String \n",
    "result = hashlib.sha256(str.encode())"
   ]
  },
  {
   "cell_type": "code",
   "execution_count": 4,
   "id": "a912f7e4",
   "metadata": {},
   "outputs": [
    {
     "name": "stdout",
     "output_type": "stream",
     "text": [
      "Le code héxadécimal équivalent au SHA256 est :  4cf18ebd7d78d648a7980405a1947dec4ad34c7a4d92ae17a12d794396815c87\n"
     ]
    }
   ],
   "source": [
    "print('Le code héxadécimal équivalent au SHA256 est : ',result.hexdigest())"
   ]
  },
  {
   "cell_type": "code",
   "execution_count": 5,
   "id": "281836e7",
   "metadata": {},
   "outputs": [],
   "source": [
    "result = hashlib.sha384(str.encode())"
   ]
  },
  {
   "cell_type": "code",
   "execution_count": 6,
   "id": "dad16e41",
   "metadata": {},
   "outputs": [
    {
     "name": "stdout",
     "output_type": "stream",
     "text": [
      "Le code héxadécimal équivalent au SHA384 est :  2413f4a7ff4db1b182106c011588ffe8df362392068c5b4494d453a36931d4e56276cbba0bcd050d7cbd4bf39e82453e\n"
     ]
    }
   ],
   "source": [
    "print('Le code héxadécimal équivalent au SHA384 est : ',result.hexdigest())"
   ]
  },
  {
   "cell_type": "code",
   "execution_count": 7,
   "id": "449fa418",
   "metadata": {},
   "outputs": [],
   "source": [
    "result = hashlib.sha224(str.encode())"
   ]
  },
  {
   "cell_type": "code",
   "execution_count": 8,
   "id": "49b5daa2",
   "metadata": {},
   "outputs": [
    {
     "name": "stdout",
     "output_type": "stream",
     "text": [
      "Le code héxadécimal équivalent au SHA224 est :  3ad22a014eecd0a43da2ec0b3fd1f0fcb3e79a320ccf86d2c4fbc410\n"
     ]
    }
   ],
   "source": [
    "print('Le code héxadécimal équivalent au SHA224 est : ',result.hexdigest())"
   ]
  },
  {
   "cell_type": "code",
   "execution_count": 9,
   "id": "09cedfb5",
   "metadata": {},
   "outputs": [],
   "source": [
    "result = hashlib.sha512(str.encode())"
   ]
  },
  {
   "cell_type": "code",
   "execution_count": 10,
   "id": "238df73e",
   "metadata": {},
   "outputs": [
    {
     "name": "stdout",
     "output_type": "stream",
     "text": [
      "Le code héxadécimal équivalent au SHA512 est :  0caa8ecd8e14cdf869ee0187a70e83136b64be7999c164e2104d05dd30e73f317617fc13646c7199fb02935a5d11b014cced63dfc0cc4397e1ddc9e2b3391222\n"
     ]
    }
   ],
   "source": [
    "print('Le code héxadécimal équivalent au SHA512 est : ',result.hexdigest())"
   ]
  },
  {
   "cell_type": "code",
   "execution_count": 11,
   "id": "9752d35e",
   "metadata": {},
   "outputs": [],
   "source": [
    "result = hashlib.sha1(str.encode())"
   ]
  },
  {
   "cell_type": "code",
   "execution_count": 12,
   "id": "2088915a",
   "metadata": {},
   "outputs": [
    {
     "name": "stdout",
     "output_type": "stream",
     "text": [
      "Le code héxadécimal équivalent au SHA1 est :  2806804b5e47de5b582ca0d8383a1d9d60ff7f1e\n"
     ]
    }
   ],
   "source": [
    "print('Le code héxadécimal équivalent au SHA1 est : ',result.hexdigest())"
   ]
  },
  {
   "cell_type": "markdown",
   "id": "4c01ac80",
   "metadata": {},
   "source": [
    "# Hashing MD5"
   ]
  },
  {
   "cell_type": "code",
   "execution_count": 17,
   "id": "b7f2304f",
   "metadata": {},
   "outputs": [],
   "source": [
    "result = hashlib.md5(b'MasterDS&BD')"
   ]
  },
  {
   "cell_type": "code",
   "execution_count": 21,
   "id": "70978d3b",
   "metadata": {},
   "outputs": [
    {
     "name": "stdout",
     "output_type": "stream",
     "text": [
      "Le code équivalent au MD5 est : b'\\x93\\x0b\\x1c\\xca_\\xb3\\x96N\\x14K\\xa0=\\xc9\\x81\\x97\\xfb'\n"
     ]
    }
   ],
   "source": [
    "print('Le code équivalent au MD5 est : ',end=\"\")\n",
    "print(result.digest())"
   ]
  },
  {
   "cell_type": "code",
   "execution_count": 22,
   "id": "1f712282",
   "metadata": {},
   "outputs": [],
   "source": [
    "result = hashlib.md5(b'masterDS&BD')"
   ]
  },
  {
   "cell_type": "code",
   "execution_count": 23,
   "id": "d1e5ac51",
   "metadata": {},
   "outputs": [
    {
     "name": "stdout",
     "output_type": "stream",
     "text": [
      "Le code équivalent au MD5 est : b'\\x8f\\xa0\\x01F\\x15\\r>/\\x0b\\xcd\\xfc2\\xd6\\xf0P\\xaa'\n"
     ]
    }
   ],
   "source": [
    "print('Le code équivalent au MD5 est : ',end=\"\")\n",
    "print(result.digest())"
   ]
  },
  {
   "cell_type": "code",
   "execution_count": null,
   "id": "19862509",
   "metadata": {},
   "outputs": [],
   "source": []
  }
 ],
 "metadata": {
  "kernelspec": {
   "display_name": "Python 3 (ipykernel)",
   "language": "python",
   "name": "python3"
  },
  "language_info": {
   "codemirror_mode": {
    "name": "ipython",
    "version": 3
   },
   "file_extension": ".py",
   "mimetype": "text/x-python",
   "name": "python",
   "nbconvert_exporter": "python",
   "pygments_lexer": "ipython3",
   "version": "3.9.7"
  }
 },
 "nbformat": 4,
 "nbformat_minor": 5
}
